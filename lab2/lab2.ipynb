{
 "cells": [
  {
   "cell_type": "markdown",
   "metadata": {
    "slideshow": {
     "slide_type": "slide"
    }
   },
   "source": [
    "## DevCon 2018 - Deep Learning (Part 2)\n"
   ]
  },
  {
   "cell_type": "markdown",
   "metadata": {
    "slideshow": {
     "slide_type": "subslide"
    }
   },
   "source": [
    "#### Objective\n",
    "\n",
    "In this session, we are going to build a bunch of neural nets and debug them with tensorboard."
   ]
  },
  {
   "cell_type": "code",
   "execution_count": 1,
   "metadata": {
    "slideshow": {
     "slide_type": "skip"
    }
   },
   "outputs": [
    {
     "name": "stderr",
     "output_type": "stream",
     "text": [
      "Using TensorFlow backend.\n"
     ]
    }
   ],
   "source": [
    "from keras.datasets import mnist\n",
    "from keras.utils import np_utils\n",
    "import numpy as np"
   ]
  },
  {
   "cell_type": "code",
   "execution_count": 2,
   "metadata": {
    "slideshow": {
     "slide_type": "skip"
    }
   },
   "outputs": [
    {
     "name": "stdout",
     "output_type": "stream",
     "text": [
      "Training set has length 60000 and consists of images of size 28 by 28\n",
      "Testing set has length 10000 and consists of images of size 28 by 28\n"
     ]
    }
   ],
   "source": [
    "with np.load('../../data/lab1/mnist.npz') as f:\n",
    "    train_x, train_y = f['x_train'], f['y_train']\n",
    "    test_x, test_y = f['x_test'], f['y_test']\n",
    "\n",
    "print(\"Training set has length {0} and consists of images of size {1} by {2}\".format(*train_x.shape))\n",
    "print(\"Testing set has length {0} and consists of images of size {1} by {2}\".format(*test_x.shape))"
   ]
  },
  {
   "cell_type": "markdown",
   "metadata": {
    "slideshow": {
     "slide_type": "subslide"
    }
   },
   "source": [
    "### Our data\n",
    "\n",
    "The first dataset we will work on consists of images of handwritten digits. The task at hand is to classify the image as a digit. These are a few samples from the dataset."
   ]
  },
  {
   "cell_type": "code",
   "execution_count": 3,
   "metadata": {
    "slideshow": {
     "slide_type": "skip"
    }
   },
   "outputs": [],
   "source": [
    "import matplotlib.pyplot as plt\n",
    "%matplotlib inline\n",
    "\n",
    "samples = train_x[np.random.choice(range(len(train_x)), size=10, replace=False), :, :]"
   ]
  },
  {
   "cell_type": "code",
   "execution_count": 4,
   "metadata": {
    "slideshow": {
     "slide_type": "subslide"
    }
   },
   "outputs": [
    {
     "data": {
      "image/png": "[encoded data removed]",
      "text/plain": [
       "<Figure size 576x288 with 10 Axes>"
      ]
     },
     "metadata": {},
     "output_type": "display_data"
    }
   ],
   "source": [
    "figure = plt.figure(figsize=(8,4))\n",
    "for i, sample in enumerate(samples):\n",
    "    ax = figure.add_subplot(2, 5, i+1)\n",
    "    ax.imshow(sample, cmap='gray')"
   ]
  },
  {
   "cell_type": "markdown",
   "metadata": {
    "slideshow": {
     "slide_type": "slide"
    }
   },
   "source": [
    "### Simple feed forward neural net\n",
    "\n",
    "Our first approach will be to build a simple feed forward net, with no hidden layers. This is equivalent to multinomial logistic regression."
   ]
  },
  {
   "cell_type": "markdown",
   "metadata": {
    "slideshow": {
     "slide_type": "fragment"
    }
   },
   "source": [
    "We have to flatten our image data into a one dimensional vector before it can be fed into a simple feed forward neural net. The input has to be normalized before feeding into the neural net. Normalization is done by dividing the each element in the vector by the max (255)."
   ]
  },
  {
   "cell_type": "code",
   "execution_count": 5,
   "metadata": {
    "slideshow": {
     "slide_type": "skip"
    }
   },
   "outputs": [
    {
     "name": "stdout",
     "output_type": "stream",
     "text": [
      "Modified training set has length 60000 and consists of vectors of size 784\n",
      "Modified testing set has length 10000 and consists of vectors of size 784\n",
      "Modified training labels are of size 10\n",
      "Modified testing labels are of size 10\n"
     ]
    }
   ],
   "source": [
    "num_train_samples, width, height = train_x.shape\n",
    "num_test_samples = test_x.shape[0]\n",
    "\n",
    "flat_train_x = np.reshape(train_x, (num_train_samples, width * height))\n",
    "flat_test_x  = np.reshape(test_x, (num_test_samples, width * height))\n",
    "\n",
    "dummied_train_y = np_utils.to_categorical(train_y)\n",
    "dummied_test_y = np_utils.to_categorical(test_y)\n",
    "\n",
    "print(\"Modified training set has length {0} and consists of vectors of size {1}\".format(*flat_train_x.shape))\n",
    "print(\"Modified testing set has length {0} and consists of vectors of size {1}\".format(*flat_test_x.shape))\n",
    "print(\"Modified training labels are of size {}\".format(dummied_train_y.shape[1]))\n",
    "print(\"Modified testing labels are of size {}\".format(dummied_test_y.shape[1]))"
   ]
  },
  {
   "cell_type": "code",
   "execution_count": 6,
   "metadata": {
    "slideshow": {
     "slide_type": "skip"
    }
   },
   "outputs": [],
   "source": [
    "# normalize your input vectors\n",
    "# we do 0-1 normalization by dividing by 255\n",
    "flat_train_x = flat_train_x / 255.0\n",
    "flat_test_x = flat_test_x / 255.0"
   ]
  },
  {
   "cell_type": "code",
   "execution_count": 7,
   "metadata": {
    "slideshow": {
     "slide_type": "skip"
    }
   },
   "outputs": [],
   "source": [
    "from keras.layers import Dense\n",
    "from keras.models import Sequential"
   ]
  },
  {
   "cell_type": "code",
   "execution_count": 8,
   "metadata": {
    "slideshow": {
     "slide_type": "subslide"
    }
   },
   "outputs": [
    {
     "name": "stdout",
     "output_type": "stream",
     "text": [
      "_________________________________________________________________\n",
      "Layer (type)                 Output Shape              Param #   \n",
      "=================================================================\n",
      "output (Dense)               (None, 10)                7850      \n",
      "=================================================================\n",
      "Total params: 7,850\n",
      "Trainable params: 7,850\n",
      "Non-trainable params: 0\n",
      "_________________________________________________________________\n"
     ]
    }
   ],
   "source": [
    "lenet_1 = Sequential()\n",
    "lenet_1.add(Dense(units=10,\n",
    "                  name=\"output\",\n",
    "                  activation=\"softmax\",\n",
    "                  input_shape=(width * height,)))\n",
    "lenet_1.summary()"
   ]
  },
  {
   "cell_type": "code",
   "execution_count": 9,
   "metadata": {
    "slideshow": {
     "slide_type": "skip"
    }
   },
   "outputs": [
    {
     "name": "stdout",
     "output_type": "stream",
     "text": [
      "Warning: Could not load \"/Users/vthom15/anaconda3/envs/python-3-6-ml/lib/graphviz/libgvplugin_pango.6.dylib\" - file not found\n",
      "\n",
      "Warning: Could not load \"/Users/vthom15/anaconda3/envs/python-3-6-ml/lib/graphviz/libgvplugin_pango.6.dylib\" - file not found\n",
      "Warning: Could not load \"/Users/vthom15/anaconda3/envs/python-3-6-ml/lib/graphviz/libgvplugin_pango.6.dylib\" - file not found\n",
      "Warning: Could not load \"/Users/vthom15/anaconda3/envs/python-3-6-ml/lib/graphviz/libgvplugin_pango.6.dylib\" - file not found\n",
      "\n",
      "Train on 48000 samples, validate on 12000 samples\n",
      "Epoch 1/10\n",
      "48000/48000 [==============================] - 2s 45us/step - loss: 0.8478 - acc: 0.8004 - val_loss: 0.5094 - val_acc: 0.8784\n",
      "Epoch 2/10\n",
      "48000/48000 [==============================] - 2s 44us/step - loss: 0.4899 - acc: 0.8743 - val_loss: 0.4180 - val_acc: 0.8942\n",
      "Epoch 3/10\n",
      "48000/48000 [==============================] - 2s 44us/step - loss: 0.4280 - acc: 0.8863 - val_loss: 0.3818 - val_acc: 0.9002\n",
      "Epoch 4/10\n",
      "48000/48000 [==============================] - 2s 45us/step - loss: 0.3975 - acc: 0.8923 - val_loss: 0.3613 - val_acc: 0.9027\n",
      "Epoch 5/10\n",
      "48000/48000 [==============================] - 2s 44us/step - loss: 0.3782 - acc: 0.8965 - val_loss: 0.3474 - val_acc: 0.9065\n",
      "Epoch 6/10\n",
      "48000/48000 [==============================] - 2s 44us/step - loss: 0.3646 - acc: 0.8993 - val_loss: 0.3380 - val_acc: 0.9078\n",
      "Epoch 7/10\n",
      "48000/48000 [==============================] - 2s 44us/step - loss: 0.3545 - acc: 0.9016 - val_loss: 0.3299 - val_acc: 0.9100\n",
      "Epoch 8/10\n",
      "48000/48000 [==============================] - 2s 47us/step - loss: 0.3463 - acc: 0.9037 - val_loss: 0.3245 - val_acc: 0.9103\n",
      "Epoch 9/10\n",
      "48000/48000 [==============================] - 2s 49us/step - loss: 0.3397 - acc: 0.9052 - val_loss: 0.3189 - val_acc: 0.9118\n",
      "Epoch 10/10\n",
      "48000/48000 [==============================] - 2s 49us/step - loss: 0.3341 - acc: 0.9070 - val_loss: 0.3152 - val_acc: 0.9142\n"
     ]
    }
   ],
   "source": [
    "import os\n",
    "from keras import backend as K\n",
    "from lib.default_utils import default_callbacks\n",
    "\n",
    "K.set_learning_phase(True)  # important if you have modules like dropout in your model\n",
    "\n",
    "lenet_1.compile(loss='categorical_crossentropy', optimizer='sgd', metrics=['accuracy'])\n",
    "logpath, dfcb = default_callbacks(lenet_1, prefix='lenet-1', batch_size=32)\n",
    "\n",
    "# start training, use tensorboard to show overfitting with more iterations\n",
    "lenet_1.fit(x=flat_train_x, \n",
    "          y=dummied_train_y, \n",
    "          batch_size=32, \n",
    "          epochs=10, \n",
    "          verbose=True, \n",
    "          callbacks=dfcb, \n",
    "          validation_split=0.2,\n",
    "          shuffle=True)\n",
    "\n",
    "# save final weights after completion of training\n",
    "lenet_1.save_weights(os.path.join(logpath, \"model_weights.h5\"))"
   ]
  },
  {
   "cell_type": "markdown",
   "metadata": {
    "slideshow": {
     "slide_type": "fragment"
    }
   },
   "source": [
    "[TensorBoard](http://localhost:9001)"
   ]
  },
  {
   "cell_type": "code",
   "execution_count": 10,
   "metadata": {
    "slideshow": {
     "slide_type": "subslide"
    }
   },
   "outputs": [
    {
     "name": "stdout",
     "output_type": "stream",
     "text": [
      "10000/10000 [==============================] - 0s 18us/step\n",
      "Model accuracy on test dataset is 91.410\n"
     ]
    }
   ],
   "source": [
    "# evaluate on test_dataset\n",
    "_, test_accuracy = lenet_1.evaluate(flat_test_x, dummied_test_y)\n",
    "print(\"Model accuracy on test dataset is {:.3f}\".format(test_accuracy * 100))"
   ]
  },
  {
   "cell_type": "markdown",
   "metadata": {
    "slideshow": {
     "slide_type": "slide"
    }
   },
   "source": [
    "### Model with one hidden layer\n",
    "\n",
    "We add more complexity by adding one hidden layer into our network. We will compare the performance of this network with the previous model using tensorboard."
   ]
  },
  {
   "cell_type": "code",
   "execution_count": 11,
   "metadata": {
    "slideshow": {
     "slide_type": "subslide"
    }
   },
   "outputs": [
    {
     "name": "stdout",
     "output_type": "stream",
     "text": [
      "_________________________________________________________________\n",
      "Layer (type)                 Output Shape              Param #   \n",
      "=================================================================\n",
      "hidden_1 (Dense)             (None, 16)                12560     \n",
      "_________________________________________________________________\n",
      "output (Dense)               (None, 10)                170       \n",
      "=================================================================\n",
      "Total params: 12,730\n",
      "Trainable params: 12,730\n",
      "Non-trainable params: 0\n",
      "_________________________________________________________________\n"
     ]
    }
   ],
   "source": [
    "lenet_2 = Sequential()\n",
    "lenet_2.add(Dense(units=16,\n",
    "                  name=\"hidden_1\",\n",
    "                  activation=\"relu\",\n",
    "                  input_shape=(width * height,)))\n",
    "\n",
    "lenet_2.add(Dense(units=10,\n",
    "                  name=\"output\",\n",
    "                  activation=\"softmax\"))\n",
    "lenet_2.summary()"
   ]
  },
  {
   "cell_type": "code",
   "execution_count": 12,
   "metadata": {
    "slideshow": {
     "slide_type": "skip"
    }
   },
   "outputs": [
    {
     "name": "stdout",
     "output_type": "stream",
     "text": [
      "Warning: Could not load \"/Users/vthom15/anaconda3/envs/python-3-6-ml/lib/graphviz/libgvplugin_pango.6.dylib\" - file not found\n",
      "\n",
      "Warning: Could not load \"/Users/vthom15/anaconda3/envs/python-3-6-ml/lib/graphviz/libgvplugin_pango.6.dylib\" - file not found\n",
      "Warning: Could not load \"/Users/vthom15/anaconda3/envs/python-3-6-ml/lib/graphviz/libgvplugin_pango.6.dylib\" - file not found\n",
      "Warning: Could not load \"/Users/vthom15/anaconda3/envs/python-3-6-ml/lib/graphviz/libgvplugin_pango.6.dylib\" - file not found\n",
      "\n",
      "Train on 48000 samples, validate on 12000 samples\n",
      "Epoch 1/20\n",
      "48000/48000 [==============================] - 2s 46us/step - loss: 0.9170 - acc: 0.7563 - val_loss: 0.4447 - val_acc: 0.8820\n",
      "Epoch 2/20\n",
      "48000/48000 [==============================] - 2s 45us/step - loss: 0.4206 - acc: 0.8837 - val_loss: 0.3530 - val_acc: 0.8995\n",
      "Epoch 3/20\n",
      "48000/48000 [==============================] - 2s 47us/step - loss: 0.3606 - acc: 0.8978 - val_loss: 0.3221 - val_acc: 0.9079\n",
      "Epoch 4/20\n",
      "48000/48000 [==============================] - 2s 48us/step - loss: 0.3312 - acc: 0.9058 - val_loss: 0.2996 - val_acc: 0.9147\n",
      "Epoch 5/20\n",
      "48000/48000 [==============================] - 2s 50us/step - loss: 0.3111 - acc: 0.9110 - val_loss: 0.2863 - val_acc: 0.9182\n",
      "Epoch 6/20\n",
      "48000/48000 [==============================] - 2s 46us/step - loss: 0.2954 - acc: 0.9154 - val_loss: 0.2730 - val_acc: 0.9255\n",
      "Epoch 7/20\n",
      "48000/48000 [==============================] - 2s 47us/step - loss: 0.2827 - acc: 0.9201 - val_loss: 0.2623 - val_acc: 0.9268\n",
      "Epoch 8/20\n",
      "48000/48000 [==============================] - 2s 47us/step - loss: 0.2713 - acc: 0.9227 - val_loss: 0.2571 - val_acc: 0.9265\n",
      "Epoch 9/20\n",
      "48000/48000 [==============================] - 2s 47us/step - loss: 0.2614 - acc: 0.9260 - val_loss: 0.2478 - val_acc: 0.9306\n",
      "Epoch 10/20\n",
      "48000/48000 [==============================] - 2s 51us/step - loss: 0.2525 - acc: 0.9290 - val_loss: 0.2414 - val_acc: 0.9333\n",
      "Epoch 11/20\n",
      "48000/48000 [==============================] - 2s 48us/step - loss: 0.2448 - acc: 0.9312 - val_loss: 0.2380 - val_acc: 0.9342\n",
      "Epoch 12/20\n",
      "48000/48000 [==============================] - 2s 50us/step - loss: 0.2375 - acc: 0.9329 - val_loss: 0.2304 - val_acc: 0.9360\n",
      "Epoch 13/20\n",
      "48000/48000 [==============================] - 2s 47us/step - loss: 0.2312 - acc: 0.9348 - val_loss: 0.2265 - val_acc: 0.9383\n",
      "Epoch 14/20\n",
      "48000/48000 [==============================] - 2s 52us/step - loss: 0.2251 - acc: 0.9365 - val_loss: 0.2233 - val_acc: 0.9379\n",
      "Epoch 15/20\n",
      "48000/48000 [==============================] - 2s 50us/step - loss: 0.2200 - acc: 0.9372 - val_loss: 0.2183 - val_acc: 0.9395\n",
      "Epoch 16/20\n",
      "48000/48000 [==============================] - 2s 50us/step - loss: 0.2150 - acc: 0.9397 - val_loss: 0.2146 - val_acc: 0.9413\n",
      "Epoch 17/20\n",
      "48000/48000 [==============================] - 2s 49us/step - loss: 0.2100 - acc: 0.9404 - val_loss: 0.2122 - val_acc: 0.9412\n",
      "Epoch 18/20\n",
      "48000/48000 [==============================] - 2s 50us/step - loss: 0.2054 - acc: 0.9416 - val_loss: 0.2078 - val_acc: 0.9427\n",
      "Epoch 19/20\n",
      "48000/48000 [==============================] - 2s 49us/step - loss: 0.2011 - acc: 0.9427 - val_loss: 0.2080 - val_acc: 0.9410\n",
      "Epoch 20/20\n",
      "48000/48000 [==============================] - 3s 54us/step - loss: 0.1969 - acc: 0.9440 - val_loss: 0.2018 - val_acc: 0.9450\n"
     ]
    }
   ],
   "source": [
    "## build lenet-2\n",
    "lenet_2.compile(loss='categorical_crossentropy', optimizer='sgd', metrics=['accuracy'])\n",
    "logpath, dfcb = default_callbacks(lenet_2, prefix='lenet-2', batch_size=32)\n",
    "\n",
    "# start training, use tensorboard to show overfitting with more iterations\n",
    "lenet_2.fit(x=flat_train_x, \n",
    "          y=dummied_train_y, \n",
    "          batch_size=32, \n",
    "          epochs=20, \n",
    "          verbose=True, \n",
    "          callbacks=dfcb, \n",
    "          validation_split=0.2,\n",
    "          shuffle=True)\n",
    "\n",
    "# save final weights after completion of training\n",
    "lenet_2.save_weights(os.path.join(logpath, \"model_weights.h5\"))"
   ]
  },
  {
   "cell_type": "markdown",
   "metadata": {
    "slideshow": {
     "slide_type": "fragment"
    }
   },
   "source": [
    "[TensorBoard](http://localhost:9001/)"
   ]
  },
  {
   "cell_type": "code",
   "execution_count": 13,
   "metadata": {
    "slideshow": {
     "slide_type": "subslide"
    }
   },
   "outputs": [
    {
     "name": "stdout",
     "output_type": "stream",
     "text": [
      "10000/10000 [==============================] - 0s 22us/step\n",
      "Model accuracy on test dataset is 94.320\n"
     ]
    }
   ],
   "source": [
    "# evaluate on test_dataset\n",
    "_, test_accuracy = lenet_2.evaluate(flat_test_x, dummied_test_y)\n",
    "print(\"Model accuracy on test dataset is {:.3f}\".format(test_accuracy * 100))"
   ]
  },
  {
   "cell_type": "markdown",
   "metadata": {
    "slideshow": {
     "slide_type": "slide"
    }
   },
   "source": [
    "#### Simple convolutional net\n",
    "\n",
    "Regular neural nets don't scale well for images. There is structure in images which we can exploit to our advantage. Convolutional neural nets exploit this structure to perform image related tasks.\n",
    "\n",
    "** Draft **\n",
    "This explains it better than I could\n",
    "https://cs231n.github.io/convolutional-networks/"
   ]
  },
  {
   "cell_type": "code",
   "execution_count": 14,
   "metadata": {
    "slideshow": {
     "slide_type": "subslide"
    }
   },
   "outputs": [
    {
     "name": "stdout",
     "output_type": "stream",
     "text": [
      "_________________________________________________________________\n",
      "Layer (type)                 Output Shape              Param #   \n",
      "=================================================================\n",
      "conv_1 (Conv2D)              (None, 26, 26, 32)        320       \n",
      "_________________________________________________________________\n",
      "conv_2 (Conv2D)              (None, 22, 22, 12)        9612      \n",
      "_________________________________________________________________\n",
      "flatten_1 (Flatten)          (None, 5808)              0         \n",
      "_________________________________________________________________\n",
      "output (Dense)               (None, 10)                58090     \n",
      "=================================================================\n",
      "Total params: 68,022\n",
      "Trainable params: 68,022\n",
      "Non-trainable params: 0\n",
      "_________________________________________________________________\n"
     ]
    }
   ],
   "source": [
    "# lenet 3\n",
    "# 2 convolutional layers - 3x3 and 5x5 patches\n",
    "from keras.layers import Conv2D, Flatten\n",
    "\n",
    "lenet_3 = Sequential()\n",
    "lenet_3.add(Conv2D(filters=32,\n",
    "                  name=\"conv_1\",\n",
    "                  kernel_size=(3,3),\n",
    "                  activation=\"relu\",\n",
    "                  padding='valid',\n",
    "                  input_shape=(width, height, 1)))\n",
    "\n",
    "lenet_3.add(Conv2D(filters=12,\n",
    "                  kernel_size=(5,5),\n",
    "                  padding='valid',\n",
    "                  name=\"conv_2\",\n",
    "                  activation=\"relu\"))\n",
    "\n",
    "lenet_3.add(Flatten())\n",
    "lenet_3.add(Dense(units=10,\n",
    "                  name='output',\n",
    "                  activation='softmax'))\n",
    "lenet_3.summary()"
   ]
  },
  {
   "cell_type": "code",
   "execution_count": 15,
   "metadata": {
    "slideshow": {
     "slide_type": "skip"
    }
   },
   "outputs": [],
   "source": [
    "train_x = train_x / 255.0\n",
    "test_x = test_x / 255.0\n",
    "\n",
    "train_x = np.expand_dims(train_x, axis=-1)\n",
    "test_x = np.expand_dims(test_x, axis=-1)"
   ]
  },
  {
   "cell_type": "code",
   "execution_count": 16,
   "metadata": {
    "slideshow": {
     "slide_type": "skip"
    }
   },
   "outputs": [
    {
     "name": "stdout",
     "output_type": "stream",
     "text": [
      "Warning: Could not load \"/Users/vthom15/anaconda3/envs/python-3-6-ml/lib/graphviz/libgvplugin_pango.6.dylib\" - file not found\n",
      "\n",
      "Warning: Could not load \"/Users/vthom15/anaconda3/envs/python-3-6-ml/lib/graphviz/libgvplugin_pango.6.dylib\" - file not found\n",
      "Warning: Could not load \"/Users/vthom15/anaconda3/envs/python-3-6-ml/lib/graphviz/libgvplugin_pango.6.dylib\" - file not found\n",
      "Warning: Could not load \"/Users/vthom15/anaconda3/envs/python-3-6-ml/lib/graphviz/libgvplugin_pango.6.dylib\" - file not found\n",
      "\n",
      "Train on 48000 samples, validate on 12000 samples\n",
      "Epoch 1/10\n",
      "48000/48000 [==============================] - 83s 2ms/step - loss: 0.4626 - acc: 0.8624 - val_loss: 0.2430 - val_acc: 0.9301\n",
      "Epoch 2/10\n",
      "48000/48000 [==============================] - 77s 2ms/step - loss: 0.1862 - acc: 0.9479 - val_loss: 0.1312 - val_acc: 0.9630\n",
      "Epoch 3/10\n",
      "48000/48000 [==============================] - 73s 2ms/step - loss: 0.1096 - acc: 0.9681 - val_loss: 0.1101 - val_acc: 0.9684\n",
      "Epoch 4/10\n",
      "48000/48000 [==============================] - 83s 2ms/step - loss: 0.0863 - acc: 0.9743 - val_loss: 0.0898 - val_acc: 0.9732\n",
      "Epoch 5/10\n",
      "48000/48000 [==============================] - 80s 2ms/step - loss: 0.0733 - acc: 0.9782 - val_loss: 0.0789 - val_acc: 0.9772\n",
      "Epoch 6/10\n",
      "48000/48000 [==============================] - 139s 3ms/step - loss: 0.0653 - acc: 0.9803 - val_loss: 0.0711 - val_acc: 0.9784\n",
      "Epoch 7/10\n",
      "48000/48000 [==============================] - 170s 4ms/step - loss: 0.0580 - acc: 0.9824 - val_loss: 0.0745 - val_acc: 0.9791\n",
      "Epoch 8/10\n",
      "48000/48000 [==============================] - 187s 4ms/step - loss: 0.0542 - acc: 0.9835 - val_loss: 0.0707 - val_acc: 0.9795\n",
      "Epoch 9/10\n",
      "48000/48000 [==============================] - 199s 4ms/step - loss: 0.0494 - acc: 0.9848 - val_loss: 0.0703 - val_acc: 0.9779\n",
      "Epoch 10/10\n",
      "48000/48000 [==============================] - 186s 4ms/step - loss: 0.0455 - acc: 0.9860 - val_loss: 0.0672 - val_acc: 0.9815\n"
     ]
    }
   ],
   "source": [
    "## build lenet-3\n",
    "lenet_3.compile(loss='categorical_crossentropy', optimizer='sgd', metrics=['accuracy'])\n",
    "logpath, dfcb = default_callbacks(lenet_3, prefix='conv-lenet-3', batch_size=32)\n",
    "    \n",
    "# start training, use tensorboard to show overfitting with more iterations\n",
    "lenet_3.fit(x=train_x, \n",
    "            y=dummied_train_y, \n",
    "            batch_size=32, \n",
    "            epochs=10, \n",
    "            verbose=True, \n",
    "            callbacks=dfcb, \n",
    "            validation_split=0.2,\n",
    "            shuffle=True)\n",
    "\n",
    "# save final weights after completion of training\n",
    "lenet_3.save_weights(os.path.join(logpath, \"model_weights.h5\"))"
   ]
  },
  {
   "cell_type": "markdown",
   "metadata": {
    "slideshow": {
     "slide_type": "fragment"
    }
   },
   "source": [
    "[Tensorboard](http://localhost:9001)"
   ]
  },
  {
   "cell_type": "code",
   "execution_count": 17,
   "metadata": {
    "slideshow": {
     "slide_type": "subslide"
    }
   },
   "outputs": [
    {
     "name": "stdout",
     "output_type": "stream",
     "text": [
      "10000/10000 [==============================] - 12s 1ms/step\n",
      "Model accuracy on test dataset is 98.320\n"
     ]
    }
   ],
   "source": [
    "# evaluate on test_dataset\n",
    "_, test_accuracy = lenet_3.evaluate(test_x, dummied_test_y)\n",
    "print(\"Model accuracy on test dataset is {:.3f}\".format(test_accuracy * 100))"
   ]
  },
  {
   "cell_type": "markdown",
   "metadata": {
    "slideshow": {
     "slide_type": "slide"
    }
   },
   "source": [
    "### Miscellaneous stuff\n",
    "\n",
    " - Overfitting\n",
    " \n",
    " Neural networks are notoriously easy to overfit, make sure your data set is big enough for the model that you are building. Always use a large validation set. Cross-validation can be time consuming.\n",
    " \n",
    " - Learning rate decay\n",
    " \n",
    " Always normalize your data before you feed it into the model. Gradient descent can be difficult to converge/tune without normalization\n",
    "\n",
    " - optimizers\n",
    " \n",
    " There is a large variety of optimizers out there - sgd with momentum, adam, rmsprop. We recommend sticking to sgd if you want good generalization. [The Marginal Value of Adaptive Gradient Methods in Machine Learning](https://arxiv.org/abs/1705.08292)\n",
    " \n",
    " - pooling in convolutional nets\n",
    " \n",
    " Feature pooling is a way to reduce feature size as you go deeper in the neural net.\n",
    " \n",
    " - class imbalance\n",
    " \n",
    " Make sure your classes are balanced"
   ]
  },
  {
   "cell_type": "markdown",
   "metadata": {
    "slideshow": {
     "slide_type": "slide"
    }
   },
   "source": [
    "### [Exercise] Add dropout to the model\n",
    "\n",
    "Dropout is a way to prevent overfitting. add more explanation, insert link to paper.\n",
    "https://www.cs.toronto.edu/~hinton/absps/JMLRdropout.pdf"
   ]
  },
  {
   "cell_type": "code",
   "execution_count": 18,
   "metadata": {
    "slideshow": {
     "slide_type": "subslide"
    }
   },
   "outputs": [
    {
     "name": "stdout",
     "output_type": "stream",
     "text": [
      "_________________________________________________________________\n",
      "Layer (type)                 Output Shape              Param #   \n",
      "=================================================================\n",
      "conv_1 (Conv2D)              (None, 26, 26, 32)        320       \n",
      "_________________________________________________________________\n",
      "dropout_1 (Dropout)          (None, 26, 26, 32)        0         \n",
      "_________________________________________________________________\n",
      "conv_2 (Conv2D)              (None, 22, 22, 12)        9612      \n",
      "_________________________________________________________________\n",
      "dropout_2 (Dropout)          (None, 22, 22, 12)        0         \n",
      "_________________________________________________________________\n",
      "flatten_2 (Flatten)          (None, 5808)              0         \n",
      "_________________________________________________________________\n",
      "output (Dense)               (None, 10)                58090     \n",
      "=================================================================\n",
      "Total params: 68,022\n",
      "Trainable params: 68,022\n",
      "Non-trainable params: 0\n",
      "_________________________________________________________________\n"
     ]
    }
   ],
   "source": [
    "from keras.layers import Dropout\n",
    "\n",
    "lenet_4 = Sequential()\n",
    "lenet_4.add(Conv2D(filters=32,\n",
    "                  name=\"conv_1\",\n",
    "                  kernel_size=(3,3),\n",
    "                  activation=\"relu\",\n",
    "                  padding='valid',\n",
    "                  input_shape=(width, height, 1)))\n",
    "\n",
    "lenet_4.add(Dropout(0.2))\n",
    "\n",
    "lenet_4.add(Conv2D(filters=12,\n",
    "                  kernel_size=(5,5),\n",
    "                  padding='valid',\n",
    "                  name=\"conv_2\",\n",
    "                  activation=\"relu\"))\n",
    "\n",
    "lenet_4.add(Dropout(0.2))\n",
    "\n",
    "lenet_4.add(Flatten())\n",
    "lenet_4.add(Dense(units=10,\n",
    "                  name='output',\n",
    "                  activation='softmax'))\n",
    "lenet_4.summary()"
   ]
  },
  {
   "cell_type": "code",
   "execution_count": 19,
   "metadata": {
    "slideshow": {
     "slide_type": "skip"
    }
   },
   "outputs": [
    {
     "name": "stdout",
     "output_type": "stream",
     "text": [
      "Warning: Could not load \"/Users/vthom15/anaconda3/envs/python-3-6-ml/lib/graphviz/libgvplugin_pango.6.dylib\" - file not found\n",
      "\n",
      "Warning: Could not load \"/Users/vthom15/anaconda3/envs/python-3-6-ml/lib/graphviz/libgvplugin_pango.6.dylib\" - file not found\n",
      "Warning: Could not load \"/Users/vthom15/anaconda3/envs/python-3-6-ml/lib/graphviz/libgvplugin_pango.6.dylib\" - file not found\n",
      "Warning: Could not load \"/Users/vthom15/anaconda3/envs/python-3-6-ml/lib/graphviz/libgvplugin_pango.6.dylib\" - file not found\n",
      "\n",
      "Train on 48000 samples, validate on 12000 samples\n",
      "Epoch 1/10\n",
      "48000/48000 [==============================] - 182s 4ms/step - loss: 0.4776 - acc: 0.8561 - val_loss: 0.2171 - val_acc: 0.9386\n",
      "Epoch 2/10\n",
      "48000/48000 [==============================] - 177s 4ms/step - loss: 0.1744 - acc: 0.9485 - val_loss: 0.1298 - val_acc: 0.9621\n",
      "Epoch 3/10\n",
      "48000/48000 [==============================] - 190s 4ms/step - loss: 0.1187 - acc: 0.9649 - val_loss: 0.1128 - val_acc: 0.9674\n",
      "Epoch 4/10\n",
      "48000/48000 [==============================] - 200s 4ms/step - loss: 0.0977 - acc: 0.9710 - val_loss: 0.0995 - val_acc: 0.9695\n",
      "Epoch 5/10\n",
      "48000/48000 [==============================] - 189s 4ms/step - loss: 0.0877 - acc: 0.9738 - val_loss: 0.0898 - val_acc: 0.9720\n",
      "Epoch 6/10\n",
      "48000/48000 [==============================] - 191s 4ms/step - loss: 0.0782 - acc: 0.9761 - val_loss: 0.0813 - val_acc: 0.9748\n",
      "Epoch 7/10\n",
      "48000/48000 [==============================] - 189s 4ms/step - loss: 0.0712 - acc: 0.9779 - val_loss: 0.0728 - val_acc: 0.9794\n",
      "Epoch 8/10\n",
      "48000/48000 [==============================] - 188s 4ms/step - loss: 0.0652 - acc: 0.9794 - val_loss: 0.0791 - val_acc: 0.9770\n",
      "Epoch 9/10\n",
      "48000/48000 [==============================] - 186s 4ms/step - loss: 0.0603 - acc: 0.9809 - val_loss: 0.0698 - val_acc: 0.9778\n",
      "Epoch 10/10\n",
      "48000/48000 [==============================] - 186s 4ms/step - loss: 0.0567 - acc: 0.9826 - val_loss: 0.0692 - val_acc: 0.9793\n"
     ]
    }
   ],
   "source": [
    "lenet_4.compile(loss='categorical_crossentropy', optimizer='sgd', metrics=['accuracy'])\n",
    "logpath, dfcb = default_callbacks(lenet_4, prefix='conv-lenet-4-dropout', batch_size=32)\n",
    "    \n",
    "# start training, use tensorboard to show overfitting with more iterations\n",
    "lenet_4.fit(x=train_x, \n",
    "            y=dummied_train_y, \n",
    "            batch_size=32, \n",
    "            epochs=10, \n",
    "            verbose=True, \n",
    "            callbacks=dfcb, \n",
    "            validation_split=0.2,\n",
    "            shuffle=True)\n",
    "\n",
    "# save final weights after completion of training\n",
    "lenet_4.save_weights(os.path.join(logpath, \"model_weights.h5\"))"
   ]
  },
  {
   "cell_type": "code",
   "execution_count": 21,
   "metadata": {
    "slideshow": {
     "slide_type": "subslide"
    }
   },
   "outputs": [
    {
     "name": "stdout",
     "output_type": "stream",
     "text": [
      "10000/10000 [==============================] - 9s 946us/step\n",
      "Model accuracy on test dataset is 98.230\n"
     ]
    }
   ],
   "source": [
    "# evaluate on test_dataset\n",
    "K.set_learning_phase(False)\n",
    "_, test_accuracy = lenet_4.evaluate(test_x, dummied_test_y)\n",
    "print(\"Model accuracy on test dataset is {:.3f}\".format(test_accuracy * 100))"
   ]
  }
 ],
 "metadata": {
  "kernelspec": {
   "display_name": "Python 3",
   "language": "python",
   "name": "python3"
  },
  "language_info": {
   "codemirror_mode": {
    "name": "ipython",
    "version": 3
   },
   "file_extension": ".py",
   "mimetype": "text/x-python",
   "name": "python",
   "nbconvert_exporter": "python",
   "pygments_lexer": "ipython3",
   "version": "3.6.4"
  }
 },
 "nbformat": 4,
 "nbformat_minor": 2
}
